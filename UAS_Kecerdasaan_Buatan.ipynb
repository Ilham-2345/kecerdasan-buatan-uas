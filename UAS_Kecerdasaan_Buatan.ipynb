{
 "cells": [
  {
   "cell_type": "markdown",
   "metadata": {},
   "source": [
    "## Sistem Prediksi Tingkat Stres Mahasiswa"
   ]
  },
  {
   "cell_type": "code",
   "execution_count": 1,
   "metadata": {},
   "outputs": [
    {
     "name": "stdout",
     "output_type": "stream",
     "text": [
      "Jumlah Tugas: 8, Waktu Belajar: 5 jam, Waktu Tidur: 8 jam -> Tingkat Stres: SEDANG\n"
     ]
    }
   ],
   "source": [
    "import numpy as np\n",
    "\n",
    "class FuzzyStressPredictor:\n",
    "    def __init__(self):\n",
    "        pass\n",
    "\n",
    "    def membership_tugas(self, x):\n",
    "        return {\n",
    "            'SEDIKIT': max(0, min((4-x)/(4-0), 1)) if x <= 4 else 0,\n",
    "            'SEDANG': max(0, min((x-2)/(4-2), (6-x)/(6-4))) if 2 <= x <= 6 else 0,\n",
    "            'BANYAK': max(0, min((x-5)/(8-5), 1)) if x >= 5 else 0\n",
    "        }\n",
    "\n",
    "    def membership_belajar(self, x):\n",
    "        return {\n",
    "            'PENDEK': max(0, min((4-x)/(4-0), 1)) if x <= 4 else 0,\n",
    "            'NORMAL': max(0, min((x-3)/(6-3), (8-x)/(8-6))) if 3 <= x <= 8 else 0,\n",
    "            'PANJANG': max(0, min((x-7)/(10-7), 1)) if x >= 7 else 0\n",
    "        }\n",
    "\n",
    "    def membership_tidur(self, x):\n",
    "        return {\n",
    "            'KURANG': max(0, min((5-x)/(5-0), 1)) if x <= 5 else 0,\n",
    "            'CUKUP': max(0, min((x-4)/(7-4), (9-x)/(9-7))) if 4 <= x <= 9 else 0,\n",
    "            'LEBIH': max(0, min((x-8)/(11-8), 1)) if x >= 8 else 0\n",
    "        }\n",
    "\n",
    "    def fuzzy_rules(self, tugas, belajar, tidur):\n",
    "        rules = [\n",
    "            ('RENDAH', min(tugas['SEDIKIT'], belajar['NORMAL'], tidur['CUKUP'])),\n",
    "            ('TINGGI', min(tugas['BANYAK'], tidur['KURANG'])),\n",
    "            ('TINGGI', min(belajar['PANJANG'], tidur['KURANG'])),\n",
    "            ('SEDANG', min(tugas['SEDANG'], belajar['NORMAL'], tidur['CUKUP'])),\n",
    "            ('RENDAH', min(tugas['SEDIKIT'], tidur['LEBIH']))\n",
    "        ]\n",
    "\n",
    "        stress_levels = {'RENDAH': 0, 'SEDANG': 0, 'TINGGI': 0}\n",
    "        for level, value in rules:\n",
    "            stress_levels[level] = max(stress_levels[level], value)\n",
    "        return stress_levels\n",
    "\n",
    "    def defuzzification(self, stress_levels):\n",
    "        centers = {'RENDAH': 25, 'SEDANG': 50, 'TINGGI': 75}\n",
    "        numerator = sum(stress_levels[level] * centers[level] for level in stress_levels)\n",
    "        denominator = sum(stress_levels.values())\n",
    "        return 50 if denominator == 0 else numerator / denominator\n",
    "\n",
    "    def predict_stress(self, jumlah_tugas, waktu_belajar, waktu_tidur):\n",
    "        tugas_fuzzy = self.membership_tugas(jumlah_tugas)\n",
    "        belajar_fuzzy = self.membership_belajar(waktu_belajar)\n",
    "        tidur_fuzzy = self.membership_tidur(waktu_tidur)\n",
    "\n",
    "        stress_levels = self.fuzzy_rules(tugas_fuzzy, belajar_fuzzy, tidur_fuzzy)\n",
    "        crisp_result = self.defuzzification(stress_levels)\n",
    "\n",
    "        if crisp_result < 35:\n",
    "            return \"RENDAH\"\n",
    "        elif crisp_result < 65:\n",
    "            return \"SEDANG\"\n",
    "        else:\n",
    "            return \"TINGGI\"\n",
    "\n",
    "# Penggunaan\n",
    "predictor = FuzzyStressPredictor()\n",
    "\n",
    "# Input spesifik\n",
    "jumlah_tugas = 8\n",
    "waktu_belajar = 5\n",
    "waktu_tidur = 8\n",
    "\n",
    "# Prediksi tingkat stres\n",
    "tingkat_stres = predictor.predict_stress(jumlah_tugas, waktu_belajar, waktu_tidur)\n",
    "\n",
    "# Output\n",
    "print(f\"Jumlah Tugas: {jumlah_tugas}, Waktu Belajar: {waktu_belajar} jam, Waktu Tidur: {waktu_tidur} jam -> Tingkat Stres: {tingkat_stres}\")\n",
    "\n"
   ]
  }
 ],
 "metadata": {
  "kernelspec": {
   "display_name": "Python 3",
   "language": "python",
   "name": "python3"
  },
  "language_info": {
   "codemirror_mode": {
    "name": "ipython",
    "version": 3
   },
   "file_extension": ".py",
   "mimetype": "text/x-python",
   "name": "python",
   "nbconvert_exporter": "python",
   "pygments_lexer": "ipython3",
   "version": "3.12.6"
  }
 },
 "nbformat": 4,
 "nbformat_minor": 2
}
